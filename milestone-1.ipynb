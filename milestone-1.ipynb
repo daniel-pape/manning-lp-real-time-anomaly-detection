{
 "cells": [
  {
   "cell_type": "code",
   "execution_count": 2,
   "id": "348fdb25-f7ac-4587-b6ca-4a35d412d330",
   "metadata": {},
   "outputs": [
    {
     "name": "stdout",
     "output_type": "stream",
     "text": [
      "hello, world.\n"
     ]
    }
   ],
   "source": [
    "print(\"hello, world.\")"
   ]
  },
  {
   "cell_type": "code",
   "execution_count": null,
   "id": "005dcbc5-f1d0-4bc5-ab89-34c8ac4dfec5",
   "metadata": {},
   "outputs": [],
   "source": []
  },
  {
   "cell_type": "code",
   "execution_count": null,
   "id": "ed64f368-85e9-4335-b642-12fd63357940",
   "metadata": {},
   "outputs": [],
   "source": []
  }
 ],
 "metadata": {
  "kernelspec": {
   "display_name": "Python 3 (ipykernel)",
   "language": "python",
   "name": "python3"
  },
  "language_info": {
   "codemirror_mode": {
    "name": "ipython",
    "version": 3
   },
   "file_extension": ".py",
   "mimetype": "text/x-python",
   "name": "python",
   "nbconvert_exporter": "python",
   "pygments_lexer": "ipython3",
   "version": "3.10.12"
  }
 },
 "nbformat": 4,
 "nbformat_minor": 5
}
